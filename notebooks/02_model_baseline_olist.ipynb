{
 "cells": [
  {
   "cell_type": "markdown",
   "id": "913467f7",
   "metadata": {},
   "source": [
    "# 02 – Modelagem Baseline\n",
    "\n",
    "## 1. Setup\n",
    "- Import das bibliotecas\n",
    "- Conexão ao Postgres e leitura das tabelas Silver\n"
   ]
  },
  {
   "cell_type": "code",
   "execution_count": 4,
   "id": "8b506430",
   "metadata": {},
   "outputs": [],
   "source": [
    "# Ajusta o path para apontar à raiz do projeto (/app) dentro do container\n",
    "import sys, os\n",
    "sys.path.insert(0, os.path.abspath('..'))\n"
   ]
  },
  {
   "cell_type": "code",
   "execution_count": 5,
   "id": "914a8b86",
   "metadata": {},
   "outputs": [
    {
     "name": "stdout",
     "output_type": "stream",
     "text": [
      "orders  : (99441, 8)\n",
      "payments: (0, 3)\n",
      "reviews : (0, 2)\n"
     ]
    }
   ],
   "source": [
    "import pandas as pd\n",
    "import sqlalchemy as sa\n",
    "from src.utils.config import settings\n",
    "\n",
    "# criação da engine\n",
    "engine = sa.create_engine(\n",
    "    f\"postgresql+psycopg://{settings.PG_USER}:\"\n",
    "    f\"{settings.PG_PASSWORD}@{settings.PG_HOST}:\"\n",
    "    f\"{settings.PG_PORT}/{settings.PG_DB}\"\n",
    ")\n",
    "\n",
    "# leitura das tabelas Silver\n",
    "df_orders   = pd.read_sql(\"SELECT * FROM silver.orders_raw\", engine)\n",
    "df_payments = pd.read_sql(\"SELECT order_id, payment_value, freight_value FROM silver.order_items_raw JOIN silver.order_payments_raw USING(order_id)\", engine)\n",
    "df_reviews  = pd.read_sql(\"SELECT order_id, review_score FROM silver.order_reviews_raw\", engine)\n",
    "\n",
    "print(\"orders  :\", df_orders.shape)\n",
    "print(\"payments:\", df_payments.shape)\n",
    "print(\"reviews :\", df_reviews.shape)\n"
   ]
  },
  {
   "cell_type": "markdown",
   "id": "631f5a1e",
   "metadata": {},
   "source": [
    "## 2. Preparação dos dados\n",
    "- Merge das tabelas\n",
    "- Cálculo de `delay_days`\n",
    "- Criação do target `y`\n",
    "- Cálculo de `lead_time_est`\n",
    "- Extração de `X` e `y`\n"
   ]
  },
  {
   "cell_type": "code",
   "execution_count": 6,
   "id": "700ace88",
   "metadata": {},
   "outputs": [
    {
     "name": "stdout",
     "output_type": "stream",
     "text": [
      "X: (99441, 3) y: (99441,) Prop. atrasos: 0.079\n"
     ]
    },
    {
     "name": "stderr",
     "output_type": "stream",
     "text": [
      "/tmp/ipykernel_178/1254905194.py:25: FutureWarning: Downcasting object dtype arrays on .fillna, .ffill, .bfill is deprecated and will change in a future version. Call result.infer_objects(copy=False) instead. To opt-in to the future behavior, set `pd.set_option('future.no_silent_downcasting', True)`\n",
      "  X = df[features].fillna(0)\n"
     ]
    }
   ],
   "source": [
    "# Merge orders + payments + reviews\n",
    "df = (\n",
    "    df_orders\n",
    "    .merge(df_payments[['order_id', 'payment_value', 'freight_value']], on='order_id', how='left')\n",
    "    .merge(df_reviews[['order_id', 'review_score']], on='order_id', how='left')\n",
    ")\n",
    "\n",
    "# delay_days (real – estimado) em dias\n",
    "df['delay_days'] = (\n",
    "    pd.to_datetime(df['order_delivered_customer_date']) -\n",
    "    pd.to_datetime(df['order_estimated_delivery_date'])\n",
    ").dt.total_seconds() / (24*3600)\n",
    "\n",
    "# target binário: 1 = atrasado, 0 = no prazo ou antecipado\n",
    "df['y'] = (df['delay_days'] > 0).astype(int)\n",
    "\n",
    "# lead_time_est (estimado – compra) em dias\n",
    "df['lead_time_est'] = (\n",
    "    pd.to_datetime(df['order_estimated_delivery_date']) -\n",
    "    pd.to_datetime(df['order_purchase_timestamp'])\n",
    ").dt.total_seconds() / (24*3600)\n",
    "\n",
    "# features e target\n",
    "features = ['payment_value', 'freight_value', 'lead_time_est']\n",
    "X = df[features].fillna(0)\n",
    "y = df['y']\n",
    "\n",
    "print(\"X:\", X.shape, \"y:\", y.shape, \"Prop. atrasos:\", round(y.mean(), 3))"
   ]
  },
  {
   "cell_type": "markdown",
   "id": "040ffbae",
   "metadata": {},
   "source": [
    "## 3. Split treino/teste\n",
    "- train_test_split (80% treino, 20% teste)"
   ]
  },
  {
   "cell_type": "code",
   "execution_count": 7,
   "id": "3d91a221",
   "metadata": {},
   "outputs": [
    {
     "name": "stdout",
     "output_type": "stream",
     "text": [
      "Treino: (79552, 3) {0: 0.9212841914722446, 1: 0.07871580852775543}\n",
      "Teste : (19889, 3) {0: 0.9213132887525768, 1: 0.0786867112474232}\n"
     ]
    }
   ],
   "source": [
    "from sklearn.model_selection import train_test_split\n",
    "\n",
    "X_train, X_test, y_train, y_test = train_test_split(\n",
    "    X, y, test_size=0.2, random_state=42, stratify=y\n",
    ")\n",
    "\n",
    "print(\"Treino:\", X_train.shape, y_train.value_counts(normalize=True).to_dict())\n",
    "print(\"Teste :\", X_test.shape, y_test.value_counts(normalize=True).to_dict())\n"
   ]
  },
  {
   "cell_type": "markdown",
   "id": "2f90cf0c",
   "metadata": {},
   "source": [
    "## 4. Baseline com LogisticRegression\n",
    "- Treinamento e avaliação com classification_report e AUC"
   ]
  },
  {
   "cell_type": "code",
   "execution_count": 8,
   "id": "39e11f42",
   "metadata": {},
   "outputs": [
    {
     "name": "stdout",
     "output_type": "stream",
     "text": [
      "Classification Report:\n",
      "               precision    recall  f1-score   support\n",
      "\n",
      "           0       0.92      1.00      0.96     18324\n",
      "           1       0.00      0.00      0.00      1565\n",
      "\n",
      "    accuracy                           0.92     19889\n",
      "   macro avg       0.46      0.50      0.48     19889\n",
      "weighted avg       0.85      0.92      0.88     19889\n",
      "\n",
      "ROC AUC Score: 0.5477\n"
     ]
    },
    {
     "name": "stderr",
     "output_type": "stream",
     "text": [
      "/usr/local/lib/python3.10/site-packages/sklearn/metrics/_classification.py:1509: UndefinedMetricWarning: Precision is ill-defined and being set to 0.0 in labels with no predicted samples. Use `zero_division` parameter to control this behavior.\n",
      "  _warn_prf(average, modifier, f\"{metric.capitalize()} is\", len(result))\n",
      "/usr/local/lib/python3.10/site-packages/sklearn/metrics/_classification.py:1509: UndefinedMetricWarning: Precision is ill-defined and being set to 0.0 in labels with no predicted samples. Use `zero_division` parameter to control this behavior.\n",
      "  _warn_prf(average, modifier, f\"{metric.capitalize()} is\", len(result))\n",
      "/usr/local/lib/python3.10/site-packages/sklearn/metrics/_classification.py:1509: UndefinedMetricWarning: Precision is ill-defined and being set to 0.0 in labels with no predicted samples. Use `zero_division` parameter to control this behavior.\n",
      "  _warn_prf(average, modifier, f\"{metric.capitalize()} is\", len(result))\n"
     ]
    }
   ],
   "source": [
    "from sklearn.linear_model import LogisticRegression\n",
    "from sklearn.metrics import classification_report, roc_auc_score\n",
    "\n",
    "# treinando o modelo\n",
    "model = LogisticRegression(max_iter=1000)\n",
    "model.fit(X_train, y_train)\n",
    "\n",
    "# previsões\n",
    "y_pred = model.predict(X_test)\n",
    "y_proba = model.predict_proba(X_test)[:,1]\n",
    "\n",
    "# métricas\n",
    "print(\"Classification Report:\\n\", classification_report(y_test, y_pred))\n",
    "print(\"ROC AUC Score:\", round(roc_auc_score(y_test, y_proba), 4))\n"
   ]
  },
  {
   "cell_type": "markdown",
   "id": "df718cc3",
   "metadata": {},
   "source": [
    "## 5. Conclusão Inicial\n",
    "- Exibir resultados obtidos e comentar:\n",
    "  - Acurácia / Precision / Recall\n",
    "  - AUC\n",
    "- Próximos passos: feature engineering avançado, tuning, deploy\n"
   ]
  }
 ],
 "metadata": {
  "kernelspec": {
   "display_name": "Python 3 (ipykernel)",
   "language": "python",
   "name": "python3"
  },
  "language_info": {
   "codemirror_mode": {
    "name": "ipython",
    "version": 3
   },
   "file_extension": ".py",
   "mimetype": "text/x-python",
   "name": "python",
   "nbconvert_exporter": "python",
   "pygments_lexer": "ipython3",
   "version": "3.10.18"
  }
 },
 "nbformat": 4,
 "nbformat_minor": 5
}
